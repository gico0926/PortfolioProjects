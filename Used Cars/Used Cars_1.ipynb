{
 "cells": [
  {
   "cell_type": "markdown",
   "metadata": {},
   "source": [
    "## EDA & Data Preprocessing"
   ]
  },
  {
   "cell_type": "code",
   "execution_count": 1,
   "metadata": {},
   "outputs": [],
   "source": [
    "import warnings\n",
    "import pandas as pd\n",
    "import numpy as np\n",
    "import missingno as msno\n",
    "import matplotlib.pyplot as plt\n",
    "import seaborn as sns"
   ]
  },
  {
   "cell_type": "code",
   "execution_count": 2,
   "metadata": {},
   "outputs": [],
   "source": [
    "df = pd.read_csv(r'D:\\專案\\Projects\\Used Cars\\Data\\vehicles.csv').drop('index', axis=1, errors='ignore')"
   ]
  },
  {
   "cell_type": "code",
   "execution_count": 3,
   "metadata": {},
   "outputs": [
    {
     "name": "stdout",
     "output_type": "stream",
     "text": [
      "<class 'pandas.core.frame.DataFrame'>\n",
      "RangeIndex: 426880 entries, 0 to 426879\n",
      "Data columns (total 26 columns):\n",
      " #   Column        Non-Null Count   Dtype  \n",
      "---  ------        --------------   -----  \n",
      " 0   id            426880 non-null  int64  \n",
      " 1   url           426880 non-null  object \n",
      " 2   region        426880 non-null  object \n",
      " 3   region_url    426880 non-null  object \n",
      " 4   price         426880 non-null  int64  \n",
      " 5   year          425675 non-null  float64\n",
      " 6   manufacturer  409234 non-null  object \n",
      " 7   model         421603 non-null  object \n",
      " 8   condition     252776 non-null  object \n",
      " 9   cylinders     249202 non-null  object \n",
      " 10  fuel          423867 non-null  object \n",
      " 11  odometer      422480 non-null  float64\n",
      " 12  title_status  418638 non-null  object \n",
      " 13  transmission  424324 non-null  object \n",
      " 14  VIN           265838 non-null  object \n",
      " 15  drive         296313 non-null  object \n",
      " 16  size          120519 non-null  object \n",
      " 17  type          334022 non-null  object \n",
      " 18  paint_color   296677 non-null  object \n",
      " 19  image_url     426812 non-null  object \n",
      " 20  description   426810 non-null  object \n",
      " 21  county        0 non-null       float64\n",
      " 22  state         426880 non-null  object \n",
      " 23  lat           420331 non-null  float64\n",
      " 24  long          420331 non-null  float64\n",
      " 25  posting_date  426812 non-null  object \n",
      "dtypes: float64(5), int64(2), object(19)\n",
      "memory usage: 84.7+ MB\n"
     ]
    }
   ],
   "source": [
    "df.info()"
   ]
  },
  {
   "cell_type": "code",
   "execution_count": 77,
   "metadata": {},
   "outputs": [
    {
     "data": {
      "text/html": [
       "<div>\n",
       "<style scoped>\n",
       "    .dataframe tbody tr th:only-of-type {\n",
       "        vertical-align: middle;\n",
       "    }\n",
       "\n",
       "    .dataframe tbody tr th {\n",
       "        vertical-align: top;\n",
       "    }\n",
       "\n",
       "    .dataframe thead th {\n",
       "        text-align: right;\n",
       "    }\n",
       "</style>\n",
       "<table border=\"1\" class=\"dataframe\">\n",
       "  <thead>\n",
       "    <tr style=\"text-align: right;\">\n",
       "      <th></th>\n",
       "      <th>id</th>\n",
       "      <th>price</th>\n",
       "      <th>year</th>\n",
       "      <th>odometer</th>\n",
       "      <th>county</th>\n",
       "      <th>lat</th>\n",
       "      <th>long</th>\n",
       "    </tr>\n",
       "  </thead>\n",
       "  <tbody>\n",
       "    <tr>\n",
       "      <th>count</th>\n",
       "      <td>4.268800e+05</td>\n",
       "      <td>4.268800e+05</td>\n",
       "      <td>425675.000000</td>\n",
       "      <td>4.224800e+05</td>\n",
       "      <td>0.0</td>\n",
       "      <td>420331.000000</td>\n",
       "      <td>420331.000000</td>\n",
       "    </tr>\n",
       "    <tr>\n",
       "      <th>mean</th>\n",
       "      <td>7.311487e+09</td>\n",
       "      <td>7.519903e+04</td>\n",
       "      <td>2011.235191</td>\n",
       "      <td>9.804333e+04</td>\n",
       "      <td>NaN</td>\n",
       "      <td>38.493940</td>\n",
       "      <td>-94.748599</td>\n",
       "    </tr>\n",
       "    <tr>\n",
       "      <th>std</th>\n",
       "      <td>4.473170e+06</td>\n",
       "      <td>1.218228e+07</td>\n",
       "      <td>9.452120</td>\n",
       "      <td>2.138815e+05</td>\n",
       "      <td>NaN</td>\n",
       "      <td>5.841533</td>\n",
       "      <td>18.365462</td>\n",
       "    </tr>\n",
       "    <tr>\n",
       "      <th>min</th>\n",
       "      <td>7.207408e+09</td>\n",
       "      <td>0.000000e+00</td>\n",
       "      <td>1900.000000</td>\n",
       "      <td>0.000000e+00</td>\n",
       "      <td>NaN</td>\n",
       "      <td>-84.122245</td>\n",
       "      <td>-159.827728</td>\n",
       "    </tr>\n",
       "    <tr>\n",
       "      <th>25%</th>\n",
       "      <td>7.308143e+09</td>\n",
       "      <td>5.900000e+03</td>\n",
       "      <td>2008.000000</td>\n",
       "      <td>3.770400e+04</td>\n",
       "      <td>NaN</td>\n",
       "      <td>34.601900</td>\n",
       "      <td>-111.939847</td>\n",
       "    </tr>\n",
       "    <tr>\n",
       "      <th>50%</th>\n",
       "      <td>7.312621e+09</td>\n",
       "      <td>1.395000e+04</td>\n",
       "      <td>2013.000000</td>\n",
       "      <td>8.554800e+04</td>\n",
       "      <td>NaN</td>\n",
       "      <td>39.150100</td>\n",
       "      <td>-88.432600</td>\n",
       "    </tr>\n",
       "    <tr>\n",
       "      <th>75%</th>\n",
       "      <td>7.315254e+09</td>\n",
       "      <td>2.648575e+04</td>\n",
       "      <td>2017.000000</td>\n",
       "      <td>1.335425e+05</td>\n",
       "      <td>NaN</td>\n",
       "      <td>42.398900</td>\n",
       "      <td>-80.832039</td>\n",
       "    </tr>\n",
       "    <tr>\n",
       "      <th>max</th>\n",
       "      <td>7.317101e+09</td>\n",
       "      <td>3.736929e+09</td>\n",
       "      <td>2022.000000</td>\n",
       "      <td>1.000000e+07</td>\n",
       "      <td>NaN</td>\n",
       "      <td>82.390818</td>\n",
       "      <td>173.885502</td>\n",
       "    </tr>\n",
       "  </tbody>\n",
       "</table>\n",
       "</div>"
      ],
      "text/plain": [
       "                 id         price           year      odometer  county  \\\n",
       "count  4.268800e+05  4.268800e+05  425675.000000  4.224800e+05     0.0   \n",
       "mean   7.311487e+09  7.519903e+04    2011.235191  9.804333e+04     NaN   \n",
       "std    4.473170e+06  1.218228e+07       9.452120  2.138815e+05     NaN   \n",
       "min    7.207408e+09  0.000000e+00    1900.000000  0.000000e+00     NaN   \n",
       "25%    7.308143e+09  5.900000e+03    2008.000000  3.770400e+04     NaN   \n",
       "50%    7.312621e+09  1.395000e+04    2013.000000  8.554800e+04     NaN   \n",
       "75%    7.315254e+09  2.648575e+04    2017.000000  1.335425e+05     NaN   \n",
       "max    7.317101e+09  3.736929e+09    2022.000000  1.000000e+07     NaN   \n",
       "\n",
       "                 lat           long  \n",
       "count  420331.000000  420331.000000  \n",
       "mean       38.493940     -94.748599  \n",
       "std         5.841533      18.365462  \n",
       "min       -84.122245    -159.827728  \n",
       "25%        34.601900    -111.939847  \n",
       "50%        39.150100     -88.432600  \n",
       "75%        42.398900     -80.832039  \n",
       "max        82.390818     173.885502  "
      ]
     },
     "execution_count": 77,
     "metadata": {},
     "output_type": "execute_result"
    }
   ],
   "source": [
    "df.describe()"
   ]
  },
  {
   "cell_type": "code",
   "execution_count": 92,
   "metadata": {},
   "outputs": [
    {
     "data": {
      "text/plain": [
       "manufacturer\n",
       "acura               5978\n",
       "alfa-romeo           897\n",
       "aston-martin          24\n",
       "audi                7573\n",
       "bmw                14699\n",
       "buick               5501\n",
       "cadillac            6953\n",
       "chevrolet          55064\n",
       "chrysler            6031\n",
       "datsun                63\n",
       "dodge              13707\n",
       "ferrari               95\n",
       "fiat                 792\n",
       "ford               70985\n",
       "gmc                16785\n",
       "harley-davidson      153\n",
       "honda              21269\n",
       "hyundai            10338\n",
       "infiniti            4802\n",
       "jaguar              1946\n",
       "jeep               19014\n",
       "kia                 8457\n",
       "land rover            21\n",
       "lexus               8200\n",
       "lincoln             4220\n",
       "mazda               5427\n",
       "mercedes-benz      11817\n",
       "mercury             1184\n",
       "mini                2376\n",
       "mitsubishi          3292\n",
       "morgan                 3\n",
       "nissan             19067\n",
       "pontiac             2288\n",
       "porsche             1384\n",
       "ram                18342\n",
       "rover               2113\n",
       "saturn              1090\n",
       "subaru              9495\n",
       "tesla                868\n",
       "toyota             34202\n",
       "volkswagen          9345\n",
       "volvo               3374\n",
       "dtype: int64"
      ]
     },
     "execution_count": 92,
     "metadata": {},
     "output_type": "execute_result"
    }
   ],
   "source": [
    "# Check each column's grouped value\n",
    "df.groupby('manufacturer').size()"
   ]
  },
  {
   "cell_type": "code",
   "execution_count": 13,
   "metadata": {},
   "outputs": [
    {
     "data": {
      "text/plain": [
       "42"
      ]
     },
     "execution_count": 13,
     "metadata": {},
     "output_type": "execute_result"
    }
   ],
   "source": [
    "# Check how many manufacturers are there\n",
    "df['manufacturer'].nunique()"
   ]
  },
  {
   "cell_type": "code",
   "execution_count": 93,
   "metadata": {},
   "outputs": [
    {
     "data": {
      "text/plain": [
       "condition\n",
       "excellent    101467\n",
       "fair           6769\n",
       "good         121456\n",
       "like new      21178\n",
       "new            1305\n",
       "salvage         601\n",
       "dtype: int64"
      ]
     },
     "execution_count": 93,
     "metadata": {},
     "output_type": "execute_result"
    }
   ],
   "source": [
    "df.groupby('condition').size()"
   ]
  },
  {
   "cell_type": "code",
   "execution_count": 4,
   "metadata": {},
   "outputs": [
    {
     "data": {
      "text/plain": [
       "<Axes: >"
      ]
     },
     "execution_count": 4,
     "metadata": {},
     "output_type": "execute_result"
    },
    {
     "data": {
      "image/png": "[encoded data removed]",
      "text/plain": [
       "<Figure size 2500x1000 with 3 Axes>"
      ]
     },
     "metadata": {},
     "output_type": "display_data"
    }
   ],
   "source": [
    "msno.bar(df, sort='ascending')"
   ]
  },
  {
   "cell_type": "code",
   "execution_count": 6,
   "metadata": {},
   "outputs": [
    {
     "data": {
      "text/plain": [
       "<Figure size 1000x600 with 0 Axes>"
      ]
     },
     "metadata": {},
     "output_type": "display_data"
    },
    {
     "data": {
      "image/png": "[encoded data removed]",
      "text/plain": [
       "<Figure size 640x480 with 1 Axes>"
      ]
     },
     "metadata": {},
     "output_type": "display_data"
    }
   ],
   "source": [
    "# Check duplicates with VIN number\n",
    "group_by_vin = df.groupby('VIN').nunique().sort_values(ascending=False, by='VIN')\n",
    "\n",
    "plt.figure(figsize=(10, 6))\n",
    "group_by_vin.head(10).plot(kind='bar', grid=True, rot=30, xlabel=\"VIN\", ylabel='Unique VIN Count', title='Duplicate value of VINs', color='red')\n",
    "plt.legend().remove()\n",
    "plt.show()"
   ]
  },
  {
   "cell_type": "code",
   "execution_count": 7,
   "metadata": {},
   "outputs": [
    {
     "data": {
      "text/plain": [
       "0.05      6318.0\n",
       "0.25     37704.0\n",
       "0.50     85548.0\n",
       "0.75    133542.5\n",
       "0.95    204000.0\n",
       "Name: odometer, dtype: float64"
      ]
     },
     "execution_count": 7,
     "metadata": {},
     "output_type": "execute_result"
    }
   ],
   "source": [
    "df['odometer'].quantile([0.05, 0.25, 0.5, 0.75, 0.95])"
   ]
  },
  {
   "cell_type": "code",
   "execution_count": 23,
   "metadata": {},
   "outputs": [
    {
     "data": {
      "text/plain": [
       "Text(0.5, 0, 'Odometer (k)')"
      ]
     },
     "execution_count": 23,
     "metadata": {},
     "output_type": "execute_result"
    },
    {
     "data": {
      "image/png": "[encoded data removed]",
      "text/plain": [
       "<Figure size 1000x300 with 1 Axes>"
      ]
     },
     "metadata": {},
     "output_type": "display_data"
    }
   ],
   "source": [
    "ax = (df['odometer'] / 1000).plot(kind='box', vert=False, figsize=(10, 3), grid=True)\n",
    "ax.set_xlabel('Odometer (k)')"
   ]
  },
  {
   "cell_type": "code",
   "execution_count": 62,
   "metadata": {},
   "outputs": [
    {
     "data": {
      "text/plain": [
       "<Axes: title={'center': 'Price Distribution'}, xlabel='Price', ylabel='Count'>"
      ]
     },
     "execution_count": 62,
     "metadata": {},
     "output_type": "execute_result"
    },
    {
     "data": {
      "image/png": "[encoded data removed]",
      "text/plain": [
       "<Figure size 1000x600 with 1 Axes>"
      ]
     },
     "metadata": {},
     "output_type": "display_data"
    }
   ],
   "source": [
    "import math\n",
    "\n",
    "price_distribution = pd.cut(df['price'], \n",
    "                            bins=[0, 5000, 10000, 15000, 20000, 25000, 30000, 35000, 40000, 45000, 50000, 75000, 100000], \n",
    "                            labels=['0-5k', '5k-10k', '10k-15k', '15k-20k', '20k-25k', '25k-30k', '30k-35k', '35k-40k', '40k-45k', '45k-50k', '50k-75k', '75k-100']\n",
    "                            )\n",
    "\n",
    "price_distribution = price_distribution.value_counts()\n",
    "price_distribution = price_distribution.sort_index()\n",
    "\n",
    "plt.figure(figsize=(10, 6))\n",
    "price_distribution.plot(kind='bar', grid=True, rot=30, xlabel=\"Price\", ylabel='Count', title='Price Distribution', color='green')"
   ]
  },
  {
   "cell_type": "code",
   "execution_count": 60,
   "metadata": {},
   "outputs": [
    {
     "data": {
      "text/plain": [
       "335266             0\n",
       "97994              0\n",
       "97995              0\n",
       "97996              0\n",
       "356355             0\n",
       "             ...    \n",
       "37410     3009548743\n",
       "91576     3024942282\n",
       "257840    3024942282\n",
       "318592    3736928711\n",
       "356716    3736928711\n",
       "Name: price, Length: 426880, dtype: int64"
      ]
     },
     "execution_count": 60,
     "metadata": {},
     "output_type": "execute_result"
    }
   ],
   "source": [
    "min_price = df['price'].sort_values(ascending=True)\n",
    "min_price\n"
   ]
  },
  {
   "cell_type": "code",
   "execution_count": 64,
   "metadata": {},
   "outputs": [
    {
     "data": {
      "text/plain": [
       "Text(0.5, 0, 'price')"
      ]
     },
     "execution_count": 64,
     "metadata": {},
     "output_type": "execute_result"
    },
    {
     "data": {
      "image/png": "[encoded data removed]",
      "text/plain": [
       "<Figure size 1000x300 with 1 Axes>"
      ]
     },
     "metadata": {},
     "output_type": "display_data"
    }
   ],
   "source": [
    "ax = (df['price'] / 10000).plot(kind='box', vert=False, figsize=(10, 3), grid=True)\n",
    "ax.set_xlabel('price')"
   ]
  },
  {
   "cell_type": "markdown",
   "metadata": {},
   "source": [
    "### Issues with this dataset  \n",
    "－Missing values with multiple columns  \n",
    "－Data type needs to change with \"year\" and \"odometer\"  \n",
    "－Duplicate values with \"VIN\"  \n",
    "－Outlier value with \"price\" and \"odometer\"\n",
    "  \n",
    "This data set was webscraped from a used car selling platform, so it contains a lot of duplicate data with the same VIN number. This means that the car is the same, but the seller has various posts over time. To use this data set for training models, we need to clean it up. We want to estimate the value of used cars, so certain columns are very important, such as the year of the car, the selling price, the odometer reading, and the manufacturer. Additionally, we will remove any unwanted columns.\n"
   ]
  },
  {
   "cell_type": "markdown",
   "metadata": {},
   "source": [
    "### Data Preprocessing"
   ]
  },
  {
   "cell_type": "code",
   "execution_count": 3,
   "metadata": {},
   "outputs": [
    {
     "data": {
      "text/plain": [
       "(426880, 26)"
      ]
     },
     "execution_count": 3,
     "metadata": {},
     "output_type": "execute_result"
    }
   ],
   "source": [
    "# Remove duplicates not working\n",
    "# Need other method to remove duplicates\n",
    "df = df.drop_duplicates()\n",
    "df.shape"
   ]
  },
  {
   "cell_type": "code",
   "execution_count": 4,
   "metadata": {},
   "outputs": [],
   "source": [
    "# Remove Unwanted Columns\n",
    "df_drop = df.drop(columns=[\"url\", \n",
    "                           \"region_url\", \n",
    "                           \"image_url\",\n",
    "                           \"description\", \n",
    "                           \"lat\", \n",
    "                           \"long\", \n",
    "                           \"id\" ,\n",
    "                           \"county\"\n",
    "                           ], errors='ignore')"
   ]
  },
  {
   "cell_type": "code",
   "execution_count": 5,
   "metadata": {},
   "outputs": [],
   "source": [
    "# Remove rows with missing values\n",
    "# Not helpful on this dataset\n",
    "\n",
    "# Remove where price is 0 and null\n",
    "df_filtered_price = df_drop[df_drop['price'] != 0]\n",
    "df_filtered_price2 = df_filtered_price[df_filtered_price['price'].notnull()]\n",
    "\n",
    "\n",
    "# Remove where year is null\n",
    "df_filtered_price2.loc[:, 'year'] = pd.to_numeric(df_filtered_price2['year'], errors='coerce')\n",
    "df_filtered_year = df_filtered_price2[df_filtered_price2['year'].notnull()]\n",
    "null_year = df_filtered_year['year'].isnull().any()\n",
    "\n",
    "\n",
    "# Remove where manufacturer is null\n",
    "df_filtered_manu = df_filtered_year[df_filtered_year['manufacturer'].notnull()].copy()\n",
    "df_filtered_manu.loc[:, 'manufacturer'] = df_filtered_manu['manufacturer'].replace('rover', 'land rover')\n",
    "\n",
    "\n",
    "# Remove where model is null\n",
    "df_filtered_model = df_filtered_manu[df_filtered_manu['model'].notnull()]\n",
    "\n",
    "\n",
    "# Remove where odometer is 0 or null\n",
    "df_filtered_odom = df_filtered_model[df_filtered_model['odometer'] != 0]\n",
    "df_filtered_odom2 = df_filtered_odom[df_filtered_odom['odometer'].notnull()]"
   ]
  },
  {
   "cell_type": "code",
   "execution_count": 6,
   "metadata": {},
   "outputs": [
    {
     "name": "stdout",
     "output_type": "stream",
     "text": [
      "(101129, 18)\n"
     ]
    }
   ],
   "source": [
    "# The near date's data is more reliable\n",
    "\n",
    "# Sort by 'VIN' and 'date'\n",
    "df_filtered_odom2.loc[:, 'posting_date'] = pd.to_datetime(df_filtered_odom2['posting_date'], utc=True)\n",
    "df_sorted = df_filtered_odom2.sort_values(by=['VIN', 'posting_date'], ascending=[True, False])\n",
    "\n",
    "\n",
    "# Remove duplicates with same VIN number, keep the first (which is the most recent because of the sort)\n",
    "df_VIN = df_sorted.drop_duplicates(subset='VIN', keep='first')\n",
    "\n",
    "\n",
    "# Remove rows with same odometer, model and year\n",
    "df_unique = df_VIN.drop_duplicates(subset=['odometer', 'model', 'year'])\n",
    "print(df_unique.shape)\n"
   ]
  },
  {
   "cell_type": "code",
   "execution_count": 7,
   "metadata": {},
   "outputs": [
    {
     "name": "stderr",
     "output_type": "stream",
     "text": [
      "C:\\Users\\no\\AppData\\Local\\Temp\\ipykernel_23304\\1850853530.py:2: SettingWithCopyWarning: \n",
      "A value is trying to be set on a copy of a slice from a DataFrame.\n",
      "Try using .loc[row_indexer,col_indexer] = value instead\n",
      "\n",
      "See the caveats in the documentation: https://pandas.pydata.org/pandas-docs/stable/user_guide/indexing.html#returning-a-view-versus-a-copy\n",
      "  df_unique['year'] = df_unique['year'].astype('int')\n",
      "C:\\Users\\no\\AppData\\Local\\Temp\\ipykernel_23304\\1850853530.py:3: SettingWithCopyWarning: \n",
      "A value is trying to be set on a copy of a slice from a DataFrame.\n",
      "Try using .loc[row_indexer,col_indexer] = value instead\n",
      "\n",
      "See the caveats in the documentation: https://pandas.pydata.org/pandas-docs/stable/user_guide/indexing.html#returning-a-view-versus-a-copy\n",
      "  df_unique['odometer'] = df_unique['odometer'].astype('int')\n"
     ]
    }
   ],
   "source": [
    "# Change dtype of columns\n",
    "df_unique['year'] = df_unique['year'].astype('int')\n",
    "df_unique['odometer'] = df_unique['odometer'].astype('int')"
   ]
  },
  {
   "cell_type": "code",
   "execution_count": 8,
   "metadata": {},
   "outputs": [
    {
     "name": "stdout",
     "output_type": "stream",
     "text": [
      "(101129, 18)\n",
      "(97495, 18)\n"
     ]
    }
   ],
   "source": [
    "# Remove rows with price outliers\n",
    "Q1 = df_unique['price'].quantile(0.25)\n",
    "Q3 = df_unique['price'].quantile(0.75)\n",
    "IQR = Q3 - Q1\n",
    "\n",
    "filter = (df_unique['price'] >= Q1 - 1.5 * IQR) & (df_unique['price'] <= Q3 + 1.5 * IQR)\n",
    "df_filtered_outliers = df_unique.loc[filter]  \n",
    "\n",
    "print(df_unique.shape)\n",
    "print(df_filtered_outliers.shape)"
   ]
  },
  {
   "cell_type": "code",
   "execution_count": 9,
   "metadata": {},
   "outputs": [
    {
     "name": "stdout",
     "output_type": "stream",
     "text": [
      "(97495, 18)\n",
      "(94576, 18)\n"
     ]
    }
   ],
   "source": [
    "# Remove rows with price 1~500\n",
    "# Due to the range of price is only for advertisement, the price should be more than 500\n",
    "df_filtered_100 = df_filtered_outliers[(df_filtered_outliers['price'] < 1) | (df_filtered_outliers['price'] > 500)]\n",
    "\n",
    "print(df_filtered_outliers.shape)\n",
    "print(df_filtered_100.shape)"
   ]
  },
  {
   "cell_type": "code",
   "execution_count": 10,
   "metadata": {},
   "outputs": [],
   "source": [
    "# Reset index\n",
    "df_reset = df_filtered_100.reset_index(drop=True)\n",
    "\n",
    "# Add new column for later use on web scraping\n",
    "df_reset['combined'] = df_reset.apply(lambda row: f\"{row['year']} {row['manufacturer']} {row['model']}\", axis=1)"
   ]
  },
  {
   "cell_type": "code",
   "execution_count": 11,
   "metadata": {},
   "outputs": [
    {
     "data": {
      "text/html": [
       "<div>\n",
       "<style scoped>\n",
       "    .dataframe tbody tr th:only-of-type {\n",
       "        vertical-align: middle;\n",
       "    }\n",
       "\n",
       "    .dataframe tbody tr th {\n",
       "        vertical-align: top;\n",
       "    }\n",
       "\n",
       "    .dataframe thead th {\n",
       "        text-align: right;\n",
       "    }\n",
       "</style>\n",
       "<table border=\"1\" class=\"dataframe\">\n",
       "  <thead>\n",
       "    <tr style=\"text-align: right;\">\n",
       "      <th></th>\n",
       "      <th>region</th>\n",
       "      <th>price</th>\n",
       "      <th>year</th>\n",
       "      <th>manufacturer</th>\n",
       "      <th>model</th>\n",
       "      <th>condition</th>\n",
       "      <th>cylinders</th>\n",
       "      <th>fuel</th>\n",
       "      <th>odometer</th>\n",
       "      <th>title_status</th>\n",
       "      <th>transmission</th>\n",
       "      <th>VIN</th>\n",
       "      <th>drive</th>\n",
       "      <th>size</th>\n",
       "      <th>type</th>\n",
       "      <th>paint_color</th>\n",
       "      <th>state</th>\n",
       "      <th>posting_date</th>\n",
       "      <th>combined</th>\n",
       "    </tr>\n",
       "  </thead>\n",
       "  <tbody>\n",
       "    <tr>\n",
       "      <th>0</th>\n",
       "      <td>palm springs</td>\n",
       "      <td>45000</td>\n",
       "      <td>1973</td>\n",
       "      <td>chevrolet</td>\n",
       "      <td>corvette stingray</td>\n",
       "      <td>excellent</td>\n",
       "      <td>8 cylinders</td>\n",
       "      <td>gas</td>\n",
       "      <td>65000</td>\n",
       "      <td>clean</td>\n",
       "      <td>manual</td>\n",
       "      <td>00000000000000000</td>\n",
       "      <td>NaN</td>\n",
       "      <td>NaN</td>\n",
       "      <td>convertible</td>\n",
       "      <td>NaN</td>\n",
       "      <td>ca</td>\n",
       "      <td>2021-04-19 01:17:33+00:00</td>\n",
       "      <td>1973 chevrolet corvette stingray</td>\n",
       "    </tr>\n",
       "    <tr>\n",
       "      <th>1</th>\n",
       "      <td>minneapolis / st paul</td>\n",
       "      <td>13500</td>\n",
       "      <td>1938</td>\n",
       "      <td>dodge</td>\n",
       "      <td>d8</td>\n",
       "      <td>good</td>\n",
       "      <td>6 cylinders</td>\n",
       "      <td>gas</td>\n",
       "      <td>87782</td>\n",
       "      <td>clean</td>\n",
       "      <td>manual</td>\n",
       "      <td>00000000030071477</td>\n",
       "      <td>rwd</td>\n",
       "      <td>full-size</td>\n",
       "      <td>sedan</td>\n",
       "      <td>NaN</td>\n",
       "      <td>mn</td>\n",
       "      <td>2021-05-03 21:32:50+00:00</td>\n",
       "      <td>1938 dodge d8</td>\n",
       "    </tr>\n",
       "    <tr>\n",
       "      <th>2</th>\n",
       "      <td>seattle-tacoma</td>\n",
       "      <td>6995</td>\n",
       "      <td>1995</td>\n",
       "      <td>chevrolet</td>\n",
       "      <td>camaro yanase</td>\n",
       "      <td>NaN</td>\n",
       "      <td>6 cylinders</td>\n",
       "      <td>gas</td>\n",
       "      <td>37989</td>\n",
       "      <td>clean</td>\n",
       "      <td>automatic</td>\n",
       "      <td>000000000CF44603Y</td>\n",
       "      <td>rwd</td>\n",
       "      <td>NaN</td>\n",
       "      <td>hatchback</td>\n",
       "      <td>white</td>\n",
       "      <td>wa</td>\n",
       "      <td>2021-05-04 21:00:54+00:00</td>\n",
       "      <td>1995 chevrolet camaro yanase</td>\n",
       "    </tr>\n",
       "    <tr>\n",
       "      <th>3</th>\n",
       "      <td>oklahoma city</td>\n",
       "      <td>18999</td>\n",
       "      <td>1968</td>\n",
       "      <td>volkswagen</td>\n",
       "      <td>beetle</td>\n",
       "      <td>NaN</td>\n",
       "      <td>NaN</td>\n",
       "      <td>other</td>\n",
       "      <td>99462</td>\n",
       "      <td>clean</td>\n",
       "      <td>manual</td>\n",
       "      <td>00000000118683018</td>\n",
       "      <td>NaN</td>\n",
       "      <td>NaN</td>\n",
       "      <td>NaN</td>\n",
       "      <td>NaN</td>\n",
       "      <td>ok</td>\n",
       "      <td>2021-04-15 16:58:54+00:00</td>\n",
       "      <td>1968 volkswagen beetle</td>\n",
       "    </tr>\n",
       "    <tr>\n",
       "      <th>4</th>\n",
       "      <td>oklahoma city</td>\n",
       "      <td>14999</td>\n",
       "      <td>1969</td>\n",
       "      <td>volkswagen</td>\n",
       "      <td>beetle</td>\n",
       "      <td>NaN</td>\n",
       "      <td>NaN</td>\n",
       "      <td>other</td>\n",
       "      <td>53368</td>\n",
       "      <td>clean</td>\n",
       "      <td>manual</td>\n",
       "      <td>00000000119690287</td>\n",
       "      <td>NaN</td>\n",
       "      <td>NaN</td>\n",
       "      <td>NaN</td>\n",
       "      <td>NaN</td>\n",
       "      <td>ok</td>\n",
       "      <td>2021-04-15 16:58:39+00:00</td>\n",
       "      <td>1969 volkswagen beetle</td>\n",
       "    </tr>\n",
       "    <tr>\n",
       "      <th>...</th>\n",
       "      <td>...</td>\n",
       "      <td>...</td>\n",
       "      <td>...</td>\n",
       "      <td>...</td>\n",
       "      <td>...</td>\n",
       "      <td>...</td>\n",
       "      <td>...</td>\n",
       "      <td>...</td>\n",
       "      <td>...</td>\n",
       "      <td>...</td>\n",
       "      <td>...</td>\n",
       "      <td>...</td>\n",
       "      <td>...</td>\n",
       "      <td>...</td>\n",
       "      <td>...</td>\n",
       "      <td>...</td>\n",
       "      <td>...</td>\n",
       "      <td>...</td>\n",
       "      <td>...</td>\n",
       "    </tr>\n",
       "    <tr>\n",
       "      <th>94571</th>\n",
       "      <td>atlanta</td>\n",
       "      <td>17990</td>\n",
       "      <td>2019</td>\n",
       "      <td>fiat</td>\n",
       "      <td>500l pop hatchback 4d</td>\n",
       "      <td>good</td>\n",
       "      <td>NaN</td>\n",
       "      <td>gas</td>\n",
       "      <td>3533</td>\n",
       "      <td>clean</td>\n",
       "      <td>other</td>\n",
       "      <td>ZFBNFAAH9KZ041937</td>\n",
       "      <td>fwd</td>\n",
       "      <td>NaN</td>\n",
       "      <td>hatchback</td>\n",
       "      <td>red</td>\n",
       "      <td>ga</td>\n",
       "      <td>2021-05-04 20:21:22+00:00</td>\n",
       "      <td>2019 fiat 500l pop hatchback 4d</td>\n",
       "    </tr>\n",
       "    <tr>\n",
       "      <th>94572</th>\n",
       "      <td>bellingham</td>\n",
       "      <td>2986</td>\n",
       "      <td>2013</td>\n",
       "      <td>ferrari</td>\n",
       "      <td>458 spider</td>\n",
       "      <td>NaN</td>\n",
       "      <td>8 cylinders</td>\n",
       "      <td>gas</td>\n",
       "      <td>23158</td>\n",
       "      <td>clean</td>\n",
       "      <td>automatic</td>\n",
       "      <td>ZFF68NHA3D0195998</td>\n",
       "      <td>rwd</td>\n",
       "      <td>NaN</td>\n",
       "      <td>convertible</td>\n",
       "      <td>NaN</td>\n",
       "      <td>wa</td>\n",
       "      <td>2021-04-29 17:01:34+00:00</td>\n",
       "      <td>2013 ferrari 458 spider</td>\n",
       "    </tr>\n",
       "    <tr>\n",
       "      <th>94573</th>\n",
       "      <td>seattle-tacoma</td>\n",
       "      <td>2034</td>\n",
       "      <td>2017</td>\n",
       "      <td>ferrari</td>\n",
       "      <td>california t</td>\n",
       "      <td>NaN</td>\n",
       "      <td>8 cylinders</td>\n",
       "      <td>gas</td>\n",
       "      <td>9968</td>\n",
       "      <td>clean</td>\n",
       "      <td>automatic</td>\n",
       "      <td>ZFF77XJA8H0220834</td>\n",
       "      <td>rwd</td>\n",
       "      <td>NaN</td>\n",
       "      <td>convertible</td>\n",
       "      <td>NaN</td>\n",
       "      <td>wa</td>\n",
       "      <td>2021-05-04 17:00:37+00:00</td>\n",
       "      <td>2017 ferrari california t</td>\n",
       "    </tr>\n",
       "    <tr>\n",
       "      <th>94574</th>\n",
       "      <td>pittsburgh</td>\n",
       "      <td>43000</td>\n",
       "      <td>1986</td>\n",
       "      <td>ferrari</td>\n",
       "      <td>mondial cabriolet</td>\n",
       "      <td>excellent</td>\n",
       "      <td>8 cylinders</td>\n",
       "      <td>gas</td>\n",
       "      <td>33000</td>\n",
       "      <td>clean</td>\n",
       "      <td>manual</td>\n",
       "      <td>ZFFXC26A3G0060965</td>\n",
       "      <td>rwd</td>\n",
       "      <td>mid-size</td>\n",
       "      <td>convertible</td>\n",
       "      <td>red</td>\n",
       "      <td>pa</td>\n",
       "      <td>2021-04-28 14:21:28+00:00</td>\n",
       "      <td>1986 ferrari mondial cabriolet</td>\n",
       "    </tr>\n",
       "    <tr>\n",
       "      <th>94575</th>\n",
       "      <td>milwaukee</td>\n",
       "      <td>8975</td>\n",
       "      <td>2007</td>\n",
       "      <td>ford</td>\n",
       "      <td>f250 superduty 4wd xl</td>\n",
       "      <td>excellent</td>\n",
       "      <td>8 cylinders</td>\n",
       "      <td>gas</td>\n",
       "      <td>140098</td>\n",
       "      <td>clean</td>\n",
       "      <td>automatic</td>\n",
       "      <td>NaN</td>\n",
       "      <td>4wd</td>\n",
       "      <td>full-size</td>\n",
       "      <td>truck</td>\n",
       "      <td>white</td>\n",
       "      <td>wi</td>\n",
       "      <td>2021-05-05 04:24:09+00:00</td>\n",
       "      <td>2007 ford f250 superduty 4wd xl</td>\n",
       "    </tr>\n",
       "  </tbody>\n",
       "</table>\n",
       "<p>94576 rows × 19 columns</p>\n",
       "</div>"
      ],
      "text/plain": [
       "                      region  price  year manufacturer                  model  \\\n",
       "0               palm springs  45000  1973    chevrolet      corvette stingray   \n",
       "1      minneapolis / st paul  13500  1938        dodge                     d8   \n",
       "2             seattle-tacoma   6995  1995    chevrolet          camaro yanase   \n",
       "3              oklahoma city  18999  1968   volkswagen                 beetle   \n",
       "4              oklahoma city  14999  1969   volkswagen                 beetle   \n",
       "...                      ...    ...   ...          ...                    ...   \n",
       "94571                atlanta  17990  2019         fiat  500l pop hatchback 4d   \n",
       "94572             bellingham   2986  2013      ferrari             458 spider   \n",
       "94573         seattle-tacoma   2034  2017      ferrari           california t   \n",
       "94574             pittsburgh  43000  1986      ferrari      mondial cabriolet   \n",
       "94575              milwaukee   8975  2007         ford  f250 superduty 4wd xl   \n",
       "\n",
       "       condition    cylinders   fuel  odometer title_status transmission  \\\n",
       "0      excellent  8 cylinders    gas     65000        clean       manual   \n",
       "1           good  6 cylinders    gas     87782        clean       manual   \n",
       "2            NaN  6 cylinders    gas     37989        clean    automatic   \n",
       "3            NaN          NaN  other     99462        clean       manual   \n",
       "4            NaN          NaN  other     53368        clean       manual   \n",
       "...          ...          ...    ...       ...          ...          ...   \n",
       "94571       good          NaN    gas      3533        clean        other   \n",
       "94572        NaN  8 cylinders    gas     23158        clean    automatic   \n",
       "94573        NaN  8 cylinders    gas      9968        clean    automatic   \n",
       "94574  excellent  8 cylinders    gas     33000        clean       manual   \n",
       "94575  excellent  8 cylinders    gas    140098        clean    automatic   \n",
       "\n",
       "                     VIN drive       size         type paint_color state  \\\n",
       "0      00000000000000000   NaN        NaN  convertible         NaN    ca   \n",
       "1      00000000030071477   rwd  full-size        sedan         NaN    mn   \n",
       "2      000000000CF44603Y   rwd        NaN    hatchback       white    wa   \n",
       "3      00000000118683018   NaN        NaN          NaN         NaN    ok   \n",
       "4      00000000119690287   NaN        NaN          NaN         NaN    ok   \n",
       "...                  ...   ...        ...          ...         ...   ...   \n",
       "94571  ZFBNFAAH9KZ041937   fwd        NaN    hatchback         red    ga   \n",
       "94572  ZFF68NHA3D0195998   rwd        NaN  convertible         NaN    wa   \n",
       "94573  ZFF77XJA8H0220834   rwd        NaN  convertible         NaN    wa   \n",
       "94574  ZFFXC26A3G0060965   rwd   mid-size  convertible         red    pa   \n",
       "94575                NaN   4wd  full-size        truck       white    wi   \n",
       "\n",
       "                    posting_date                          combined  \n",
       "0      2021-04-19 01:17:33+00:00  1973 chevrolet corvette stingray  \n",
       "1      2021-05-03 21:32:50+00:00                     1938 dodge d8  \n",
       "2      2021-05-04 21:00:54+00:00      1995 chevrolet camaro yanase  \n",
       "3      2021-04-15 16:58:54+00:00            1968 volkswagen beetle  \n",
       "4      2021-04-15 16:58:39+00:00            1969 volkswagen beetle  \n",
       "...                          ...                               ...  \n",
       "94571  2021-05-04 20:21:22+00:00   2019 fiat 500l pop hatchback 4d  \n",
       "94572  2021-04-29 17:01:34+00:00           2013 ferrari 458 spider  \n",
       "94573  2021-05-04 17:00:37+00:00         2017 ferrari california t  \n",
       "94574  2021-04-28 14:21:28+00:00    1986 ferrari mondial cabriolet  \n",
       "94575  2021-05-05 04:24:09+00:00   2007 ford f250 superduty 4wd xl  \n",
       "\n",
       "[94576 rows x 19 columns]"
      ]
     },
     "execution_count": 11,
     "metadata": {},
     "output_type": "execute_result"
    }
   ],
   "source": [
    "df_reset"
   ]
  },
  {
   "cell_type": "code",
   "execution_count": 12,
   "metadata": {},
   "outputs": [],
   "source": [
    "df_reset.to_csv('df94567.csv', index=False, encoding='utf-8-sig')"
   ]
  },
  {
   "cell_type": "markdown",
   "metadata": {},
   "source": [
    "### Sampling"
   ]
  },
  {
   "cell_type": "code",
   "execution_count": 74,
   "metadata": {},
   "outputs": [
    {
     "name": "stdout",
     "output_type": "stream",
     "text": [
      "Required sample size: 8719\n"
     ]
    }
   ],
   "source": [
    "# Setting the confidence interval, margin of error, population size, and population proportion\n",
    "import math\n",
    "\n",
    "def calculate_sample_size(confidence_level, margin_of_error, population_size, population_proportion=0.5):\n",
    "    # Z-values corresponding to confidence intervals\n",
    "    Z_values = {\n",
    "        0.90: 1.645,\n",
    "        0.95: 1.96,\n",
    "        0.99: 2.576\n",
    "    }\n",
    "    \n",
    "    Z = Z_values.get(confidence_level, 1.96)  # Default to 95% confidence level\n",
    "    \n",
    "    # Calculate unadjusted sample size\n",
    "    n = (Z**2 * population_proportion * (1 - population_proportion)) / margin_of_error**2\n",
    "    n = math.ceil(n)  # Round up\n",
    "    \n",
    "    # Apply finite population correction formula\n",
    "    adjusted_n = n / (1 + (n - 1) / population_size)\n",
    "    adjusted_n = math.ceil(adjusted_n)  # Round up\n",
    "    \n",
    "    return adjusted_n\n",
    "\n",
    "# Usage\n",
    "confidence_level = 0.95\n",
    "margin_of_error = 0.01\n",
    "population_size = 94576\n",
    "\n",
    "sample_size = calculate_sample_size(confidence_level, margin_of_error, population_size)\n",
    "print(f\"Required sample size: {sample_size}\")"
   ]
  },
  {
   "cell_type": "code",
   "execution_count": 75,
   "metadata": {},
   "outputs": [
    {
     "name": "stdout",
     "output_type": "stream",
     "text": [
      "\n",
      "Randomly sampled 10% of entries from each group by 'manufacturer':\n",
      "(94576, 19)\n",
      "(9458, 19)\n"
     ]
    },
    {
     "data": {
      "text/html": [
       "<div>\n",
       "<style scoped>\n",
       "    .dataframe tbody tr th:only-of-type {\n",
       "        vertical-align: middle;\n",
       "    }\n",
       "\n",
       "    .dataframe tbody tr th {\n",
       "        vertical-align: top;\n",
       "    }\n",
       "\n",
       "    .dataframe thead th {\n",
       "        text-align: right;\n",
       "    }\n",
       "</style>\n",
       "<table border=\"1\" class=\"dataframe\">\n",
       "  <thead>\n",
       "    <tr style=\"text-align: right;\">\n",
       "      <th></th>\n",
       "      <th>region</th>\n",
       "      <th>price</th>\n",
       "      <th>year</th>\n",
       "      <th>manufacturer</th>\n",
       "      <th>model</th>\n",
       "      <th>condition</th>\n",
       "      <th>cylinders</th>\n",
       "      <th>fuel</th>\n",
       "      <th>odometer</th>\n",
       "      <th>title_status</th>\n",
       "      <th>transmission</th>\n",
       "      <th>VIN</th>\n",
       "      <th>drive</th>\n",
       "      <th>size</th>\n",
       "      <th>type</th>\n",
       "      <th>paint_color</th>\n",
       "      <th>state</th>\n",
       "      <th>posting_date</th>\n",
       "      <th>combined</th>\n",
       "    </tr>\n",
       "  </thead>\n",
       "  <tbody>\n",
       "    <tr>\n",
       "      <th>403</th>\n",
       "      <td>boise</td>\n",
       "      <td>12884</td>\n",
       "      <td>2010</td>\n",
       "      <td>acura</td>\n",
       "      <td>tl</td>\n",
       "      <td>NaN</td>\n",
       "      <td>6 cylinders</td>\n",
       "      <td>gas</td>\n",
       "      <td>144929</td>\n",
       "      <td>clean</td>\n",
       "      <td>automatic</td>\n",
       "      <td>19UUA9F52AA004490</td>\n",
       "      <td>4wd</td>\n",
       "      <td>NaN</td>\n",
       "      <td>sedan</td>\n",
       "      <td>grey</td>\n",
       "      <td>id</td>\n",
       "      <td>2021-04-28 14:31:29+00:00</td>\n",
       "      <td>2010 acura tl</td>\n",
       "    </tr>\n",
       "    <tr>\n",
       "      <th>62073</th>\n",
       "      <td>boulder</td>\n",
       "      <td>24500</td>\n",
       "      <td>2016</td>\n",
       "      <td>acura</td>\n",
       "      <td>rdx</td>\n",
       "      <td>excellent</td>\n",
       "      <td>6 cylinders</td>\n",
       "      <td>gas</td>\n",
       "      <td>55035</td>\n",
       "      <td>clean</td>\n",
       "      <td>automatic</td>\n",
       "      <td>5J8TB4H57GL013689</td>\n",
       "      <td>4wd</td>\n",
       "      <td>NaN</td>\n",
       "      <td>SUV</td>\n",
       "      <td>blue</td>\n",
       "      <td>co</td>\n",
       "      <td>2021-05-02 01:45:35+00:00</td>\n",
       "      <td>2016 acura rdx</td>\n",
       "    </tr>\n",
       "    <tr>\n",
       "      <th>71868</th>\n",
       "      <td>seattle-tacoma</td>\n",
       "      <td>17495</td>\n",
       "      <td>2012</td>\n",
       "      <td>acura</td>\n",
       "      <td>tsx sport wagon w/tech 79k miles heated leathe...</td>\n",
       "      <td>NaN</td>\n",
       "      <td>4 cylinders</td>\n",
       "      <td>gas</td>\n",
       "      <td>79913</td>\n",
       "      <td>clean</td>\n",
       "      <td>automatic</td>\n",
       "      <td>JH4CW2H6XCC004879</td>\n",
       "      <td>fwd</td>\n",
       "      <td>NaN</td>\n",
       "      <td>wagon</td>\n",
       "      <td>black</td>\n",
       "      <td>wa</td>\n",
       "      <td>2021-05-05 03:15:45+00:00</td>\n",
       "      <td>2012 acura tsx sport wagon w/tech 79k miles he...</td>\n",
       "    </tr>\n",
       "    <tr>\n",
       "      <th>71912</th>\n",
       "      <td>cincinnati</td>\n",
       "      <td>14999</td>\n",
       "      <td>2014</td>\n",
       "      <td>acura</td>\n",
       "      <td>rlx</td>\n",
       "      <td>NaN</td>\n",
       "      <td>NaN</td>\n",
       "      <td>gas</td>\n",
       "      <td>110849</td>\n",
       "      <td>clean</td>\n",
       "      <td>automatic</td>\n",
       "      <td>JH4KC1F57EC000218</td>\n",
       "      <td>fwd</td>\n",
       "      <td>NaN</td>\n",
       "      <td>sedan</td>\n",
       "      <td>black</td>\n",
       "      <td>oh</td>\n",
       "      <td>2021-04-17 17:01:52+00:00</td>\n",
       "      <td>2014 acura rlx</td>\n",
       "    </tr>\n",
       "    <tr>\n",
       "      <th>61939</th>\n",
       "      <td>indianapolis</td>\n",
       "      <td>7495</td>\n",
       "      <td>2009</td>\n",
       "      <td>acura</td>\n",
       "      <td>rdx</td>\n",
       "      <td>excellent</td>\n",
       "      <td>6 cylinders</td>\n",
       "      <td>gas</td>\n",
       "      <td>158534</td>\n",
       "      <td>clean</td>\n",
       "      <td>automatic</td>\n",
       "      <td>5J8TB18299A003426</td>\n",
       "      <td>4wd</td>\n",
       "      <td>NaN</td>\n",
       "      <td>SUV</td>\n",
       "      <td>black</td>\n",
       "      <td>in</td>\n",
       "      <td>2021-05-01 13:19:38+00:00</td>\n",
       "      <td>2009 acura rdx</td>\n",
       "    </tr>\n",
       "    <tr>\n",
       "      <th>...</th>\n",
       "      <td>...</td>\n",
       "      <td>...</td>\n",
       "      <td>...</td>\n",
       "      <td>...</td>\n",
       "      <td>...</td>\n",
       "      <td>...</td>\n",
       "      <td>...</td>\n",
       "      <td>...</td>\n",
       "      <td>...</td>\n",
       "      <td>...</td>\n",
       "      <td>...</td>\n",
       "      <td>...</td>\n",
       "      <td>...</td>\n",
       "      <td>...</td>\n",
       "      <td>...</td>\n",
       "      <td>...</td>\n",
       "      <td>...</td>\n",
       "      <td>...</td>\n",
       "      <td>...</td>\n",
       "    </tr>\n",
       "    <tr>\n",
       "      <th>93612</th>\n",
       "      <td>san antonio</td>\n",
       "      <td>750</td>\n",
       "      <td>2005</td>\n",
       "      <td>volvo</td>\n",
       "      <td>s40</td>\n",
       "      <td>NaN</td>\n",
       "      <td>5 cylinders</td>\n",
       "      <td>gas</td>\n",
       "      <td>99520</td>\n",
       "      <td>clean</td>\n",
       "      <td>automatic</td>\n",
       "      <td>YV1MS382052046369</td>\n",
       "      <td>fwd</td>\n",
       "      <td>mid-size</td>\n",
       "      <td>coupe</td>\n",
       "      <td>silver</td>\n",
       "      <td>tx</td>\n",
       "      <td>2021-05-02 21:52:53+00:00</td>\n",
       "      <td>2005 volvo s40</td>\n",
       "    </tr>\n",
       "    <tr>\n",
       "      <th>93665</th>\n",
       "      <td>lancaster</td>\n",
       "      <td>4995</td>\n",
       "      <td>2007</td>\n",
       "      <td>volvo</td>\n",
       "      <td>s60 2.5t</td>\n",
       "      <td>good</td>\n",
       "      <td>5 cylinders</td>\n",
       "      <td>gas</td>\n",
       "      <td>171481</td>\n",
       "      <td>clean</td>\n",
       "      <td>automatic</td>\n",
       "      <td>YV1RH592972619397</td>\n",
       "      <td>4wd</td>\n",
       "      <td>NaN</td>\n",
       "      <td>sedan</td>\n",
       "      <td>grey</td>\n",
       "      <td>pa</td>\n",
       "      <td>2021-04-24 17:44:25+00:00</td>\n",
       "      <td>2007 volvo s60 2.5t</td>\n",
       "    </tr>\n",
       "    <tr>\n",
       "      <th>94023</th>\n",
       "      <td>baltimore</td>\n",
       "      <td>3500</td>\n",
       "      <td>2007</td>\n",
       "      <td>volvo</td>\n",
       "      <td>xc90</td>\n",
       "      <td>NaN</td>\n",
       "      <td>6 cylinders</td>\n",
       "      <td>gas</td>\n",
       "      <td>145661</td>\n",
       "      <td>clean</td>\n",
       "      <td>automatic</td>\n",
       "      <td>YV4CN982971391787</td>\n",
       "      <td>fwd</td>\n",
       "      <td>NaN</td>\n",
       "      <td>SUV</td>\n",
       "      <td>grey</td>\n",
       "      <td>md</td>\n",
       "      <td>2021-04-20 23:02:13+00:00</td>\n",
       "      <td>2007 volvo xc90</td>\n",
       "    </tr>\n",
       "    <tr>\n",
       "      <th>93408</th>\n",
       "      <td>los angeles</td>\n",
       "      <td>16590</td>\n",
       "      <td>2015</td>\n",
       "      <td>volvo</td>\n",
       "      <td>v60 t5 premier wagon 4d</td>\n",
       "      <td>good</td>\n",
       "      <td>NaN</td>\n",
       "      <td>other</td>\n",
       "      <td>87880</td>\n",
       "      <td>clean</td>\n",
       "      <td>automatic</td>\n",
       "      <td>YV140MEB5F1198767</td>\n",
       "      <td>fwd</td>\n",
       "      <td>NaN</td>\n",
       "      <td>wagon</td>\n",
       "      <td>white</td>\n",
       "      <td>ca</td>\n",
       "      <td>2021-05-03 17:31:29+00:00</td>\n",
       "      <td>2015 volvo v60 t5 premier wagon 4d</td>\n",
       "    </tr>\n",
       "    <tr>\n",
       "      <th>93854</th>\n",
       "      <td>fairbanks</td>\n",
       "      <td>21999</td>\n",
       "      <td>2015</td>\n",
       "      <td>volvo</td>\n",
       "      <td>xc60</td>\n",
       "      <td>NaN</td>\n",
       "      <td>6 cylinders</td>\n",
       "      <td>gas</td>\n",
       "      <td>95856</td>\n",
       "      <td>clean</td>\n",
       "      <td>automatic</td>\n",
       "      <td>YV4902RDXF2582787</td>\n",
       "      <td>NaN</td>\n",
       "      <td>NaN</td>\n",
       "      <td>SUV</td>\n",
       "      <td>white</td>\n",
       "      <td>ak</td>\n",
       "      <td>2021-05-04 18:03:05+00:00</td>\n",
       "      <td>2015 volvo xc60</td>\n",
       "    </tr>\n",
       "  </tbody>\n",
       "</table>\n",
       "<p>9458 rows × 19 columns</p>\n",
       "</div>"
      ],
      "text/plain": [
       "               region  price  year manufacturer  \\\n",
       "403             boise  12884  2010        acura   \n",
       "62073         boulder  24500  2016        acura   \n",
       "71868  seattle-tacoma  17495  2012        acura   \n",
       "71912      cincinnati  14999  2014        acura   \n",
       "61939    indianapolis   7495  2009        acura   \n",
       "...               ...    ...   ...          ...   \n",
       "93612     san antonio    750  2005        volvo   \n",
       "93665       lancaster   4995  2007        volvo   \n",
       "94023       baltimore   3500  2007        volvo   \n",
       "93408     los angeles  16590  2015        volvo   \n",
       "93854       fairbanks  21999  2015        volvo   \n",
       "\n",
       "                                                   model  condition  \\\n",
       "403                                                   tl        NaN   \n",
       "62073                                                rdx  excellent   \n",
       "71868  tsx sport wagon w/tech 79k miles heated leathe...        NaN   \n",
       "71912                                                rlx        NaN   \n",
       "61939                                                rdx  excellent   \n",
       "...                                                  ...        ...   \n",
       "93612                                                s40        NaN   \n",
       "93665                                           s60 2.5t       good   \n",
       "94023                                               xc90        NaN   \n",
       "93408                            v60 t5 premier wagon 4d       good   \n",
       "93854                                               xc60        NaN   \n",
       "\n",
       "         cylinders   fuel  odometer title_status transmission  \\\n",
       "403    6 cylinders    gas    144929        clean    automatic   \n",
       "62073  6 cylinders    gas     55035        clean    automatic   \n",
       "71868  4 cylinders    gas     79913        clean    automatic   \n",
       "71912          NaN    gas    110849        clean    automatic   \n",
       "61939  6 cylinders    gas    158534        clean    automatic   \n",
       "...            ...    ...       ...          ...          ...   \n",
       "93612  5 cylinders    gas     99520        clean    automatic   \n",
       "93665  5 cylinders    gas    171481        clean    automatic   \n",
       "94023  6 cylinders    gas    145661        clean    automatic   \n",
       "93408          NaN  other     87880        clean    automatic   \n",
       "93854  6 cylinders    gas     95856        clean    automatic   \n",
       "\n",
       "                     VIN drive      size   type paint_color state  \\\n",
       "403    19UUA9F52AA004490   4wd       NaN  sedan        grey    id   \n",
       "62073  5J8TB4H57GL013689   4wd       NaN    SUV        blue    co   \n",
       "71868  JH4CW2H6XCC004879   fwd       NaN  wagon       black    wa   \n",
       "71912  JH4KC1F57EC000218   fwd       NaN  sedan       black    oh   \n",
       "61939  5J8TB18299A003426   4wd       NaN    SUV       black    in   \n",
       "...                  ...   ...       ...    ...         ...   ...   \n",
       "93612  YV1MS382052046369   fwd  mid-size  coupe      silver    tx   \n",
       "93665  YV1RH592972619397   4wd       NaN  sedan        grey    pa   \n",
       "94023  YV4CN982971391787   fwd       NaN    SUV        grey    md   \n",
       "93408  YV140MEB5F1198767   fwd       NaN  wagon       white    ca   \n",
       "93854  YV4902RDXF2582787   NaN       NaN    SUV       white    ak   \n",
       "\n",
       "                    posting_date  \\\n",
       "403    2021-04-28 14:31:29+00:00   \n",
       "62073  2021-05-02 01:45:35+00:00   \n",
       "71868  2021-05-05 03:15:45+00:00   \n",
       "71912  2021-04-17 17:01:52+00:00   \n",
       "61939  2021-05-01 13:19:38+00:00   \n",
       "...                          ...   \n",
       "93612  2021-05-02 21:52:53+00:00   \n",
       "93665  2021-04-24 17:44:25+00:00   \n",
       "94023  2021-04-20 23:02:13+00:00   \n",
       "93408  2021-05-03 17:31:29+00:00   \n",
       "93854  2021-05-04 18:03:05+00:00   \n",
       "\n",
       "                                                combined  \n",
       "403                                        2010 acura tl  \n",
       "62073                                     2016 acura rdx  \n",
       "71868  2012 acura tsx sport wagon w/tech 79k miles he...  \n",
       "71912                                     2014 acura rlx  \n",
       "61939                                     2009 acura rdx  \n",
       "...                                                  ...  \n",
       "93612                                     2005 volvo s40  \n",
       "93665                                2007 volvo s60 2.5t  \n",
       "94023                                    2007 volvo xc90  \n",
       "93408                 2015 volvo v60 t5 premier wagon 4d  \n",
       "93854                                    2015 volvo xc60  \n",
       "\n",
       "[9458 rows x 19 columns]"
      ]
     },
     "execution_count": 75,
     "metadata": {},
     "output_type": "execute_result"
    }
   ],
   "source": [
    "# Group by \"manufacturer\" column and randomly sample 10% of the entries from each group\n",
    "sampled_df = df_reset.groupby('manufacturer').sample(frac=0.1)\n",
    "print(\"\\nRandomly sampled 10% of entries from each group by 'manufacturer':\")\n",
    "print(df_reset.shape)\n",
    "print(sampled_df.shape)\n",
    "sampled_df"
   ]
  },
  {
   "cell_type": "code",
   "execution_count": 76,
   "metadata": {},
   "outputs": [],
   "source": [
    "# Reset index and save to csv\n",
    "df_reset = sampled_df.reset_index(drop=True)\n",
    "df_reset.to_csv('output_sampled.csv', index=False, encoding='utf-8-sig')"
   ]
  },
  {
   "cell_type": "code",
   "execution_count": 40,
   "metadata": {},
   "outputs": [],
   "source": [
    "# Divide the CSV file into smaller files\n",
    "# Increase the effeciency of web scraping\n",
    "\n",
    "import pandas as pd\n",
    "import os\n",
    "\n",
    "\n",
    "def split_csv_file(file_path, output_path, rows_per_file):\n",
    "    # Load the CSV file\n",
    "    df = pd.read_csv(file_path)\n",
    "\n",
    "    # Calculate the number of files\n",
    "    num_files = len(df) // rows_per_file\n",
    "    if len(df) % rows_per_file != 0:\n",
    "        num_files += 1\n",
    "\n",
    "    # Split the DataFrame into smaller DataFrames\n",
    "    dfs = [df[i*rows_per_file:(i+1)*rows_per_file] for i in range(num_files)]\n",
    "\n",
    "    # Write each smaller DataFrame to a separate CSV file\n",
    "    for i, df_i in enumerate(dfs):\n",
    "        df_i.to_csv(f\"{output_path}/output_{i+1}.csv\", index=False)\n",
    "\n",
    "# Usage\n",
    "split_csv_file(r\"D:\\專案\\Projects\\Used Cars\\Code\\output_sampled.csv\",\n",
    "                r\"D:\\專案\\Projects\\Used Cars\\Code\\output_divided\", 1000)"
   ]
  },
  {
   "cell_type": "markdown",
   "metadata": {},
   "source": [
    "### Using Selenium for Webcraping Original MSRP of the car"
   ]
  },
  {
   "cell_type": "code",
   "execution_count": null,
   "metadata": {},
   "outputs": [],
   "source": [
    "def selenium_extract_edge_rerun(keyword):\n",
    "\n",
    "    from selenium import webdriver\n",
    "    from selenium.webdriver.edge.service import Service\n",
    "    from selenium.webdriver.edge.options import Options\n",
    "    from selenium.webdriver.common.by import By\n",
    "    from selenium.webdriver.support.ui import WebDriverWait\n",
    "    from selenium.webdriver.support import expected_conditions as EC\n",
    "    from selenium.webdriver.common.keys import Keys\n",
    "    from selenium.common.exceptions import NoSuchElementException\n",
    "    import time\n",
    "    import json, os\n",
    "    import pandas as pd\n",
    "    import random\n",
    "    import re\n",
    "\n",
    "\n",
    "    # enable the headless mode\n",
    "    options = Options()\n",
    "    options.add_argument(\"--enable-chrome-browser-cloud-management\")\n",
    "\n",
    "    #-----Optimize Browser Settings-----#\n",
    "    options.add_argument(\"--disable-gpu\")\n",
    "    options.add_argument(\"--no-sandbox\")\n",
    "    prefs = {\"profile.managed_default_content_settings.images\": 2, \"javascript.enabled\": False}\n",
    "    options.add_experimental_option(\"prefs\", prefs)\n",
    "    options.add_argument(\"--disable-dev-shm-usage\")\n",
    "    options.add_argument(\"--disable-extensions\")\n",
    "    options.add_argument(\"--disable-notifications\")\n",
    "    options.add_argument(\"--disable-popup-blocking\")\n",
    "    options.add_argument(\"--disable-geolocation\")\n",
    "\n",
    "\n",
    "\n",
    "\n",
    "    service = Service(executable_path=\"msedgedriver.exe\")\n",
    "    driver = webdriver.Edge(service=service, options=options)\n",
    "\n",
    "    \n",
    "    #input your website here\n",
    "    driver.get(\"https://www.perplexity.ai/\")\n",
    "\n",
    "\n",
    "    # time.sleep(2)\n",
    "    sleep_time = random.randint(1, 3)\n",
    "    sleep_time2 = random.randint(5, 6)\n",
    "    sleep_time3 = random.randint(3, 4)\n",
    "    time.sleep(sleep_time)\n",
    "\n",
    "\n",
    "    #First Page\n",
    "    WebDriverWait(driver, 5).until(\n",
    "        EC.presence_of_element_located((By.XPATH, '//*[@id=\"__next\"]/main/div/div/div[2]/div/div/div/div[1]/div[2]/div/div/span/div/div/textarea'))\n",
    "    )\n",
    "    input_element = driver.find_element(By.XPATH, '//*[@id=\"__next\"]/main/div/div/div[2]/div/div/div/div[1]/div[2]/div/div/span/div/div/textarea')                          \n",
    "    input_element.clear()                                        # clear the search bar\n",
    "    input_element.send_keys(keyword + Keys.ENTER)        # search for \"tech with tim\"\n",
    "    time.sleep(sleep_time)\n",
    "\n",
    "\n",
    "    time.sleep(sleep_time2)\n",
    "\n",
    "\n",
    "    #scraping logic for the car info\n",
    "    car_name = keyword\n",
    "\n",
    "    try:\n",
    "        car_msrp_1 = driver.find_element(By.XPATH, '//*[@id=\"__next\"]/main/div/div/div[2]/div/div/div[2]/div[1]/div/div/div[1]/div/div/div[3]/div/div[1]/div[2]/div[2]/div[2]/div/div/div/div').text\n",
    "        if re.search(r'\\d', car_msrp_1):  # Check if car_msrp_1 contains any digits\n",
    "            try:\n",
    "                car_msrp = re.search(r'\\$\\d+,\\d+', car_msrp_1).group()\n",
    "            except AttributeError:  # re.search() returns None if no match is found, which causes AttributeError when .group() is called\n",
    "                car_msrp = 'not found'\n",
    "        else:\n",
    "            car_msrp = 'not found'\n",
    "    except NoSuchElementException:\n",
    "        car_msrp = 'not found'\n",
    "\n",
    "\n",
    "\n",
    "    print(car_name + car_msrp)\n",
    "\n",
    "\n",
    "\n",
    "    # dictionary where to store the info\n",
    "    car_info = {}\n",
    "    car_info['car_name'] = car_name\n",
    "    car_info['car_msrp'] = car_msrp\n",
    "\n",
    "\n",
    "    df = pd.DataFrame([car_info])\n",
    "\n",
    "\n",
    "    if not os.path.isfile(r'D:\\專案\\Projects\\Used Cars\\Code\\output_divided\\output_1.csv'):\n",
    "        df.to_csv(r'D:\\專案\\Projects\\Used Cars\\Code\\output_divided\\output_1.csv', header='column_names', encoding='utf-8')\n",
    "    else:\n",
    "        df.to_csv(r'D:\\專案\\Projects\\Used Cars\\Code\\output_divided\\output_1.csv', mode='a', header=False, encoding='utf-8')\n",
    "\n",
    "\n",
    "    time.sleep(sleep_time2)\n",
    "    driver.close()\n",
    "    driver.quit()\n",
    "\n",
    "\n",
    "\n",
    "\n",
    "\n",
    "import time\n",
    "from time import sleep\n",
    "import csv, os, json\n",
    "import pandas as pd\n",
    "import random\n",
    "\n",
    "\n",
    "columns_to_read = ['combined']\n",
    "car_name_list = pd.read_csv(r'D:\\專案\\Projects\\Used Cars\\Code\\output_divided\\output_1.csv', usecols=columns_to_read)\n",
    "\n",
    "counter = 0 # Initialize the counter\n",
    "\n",
    "for keyword in car_name_list['combined'].values[0:]: # Iterate over each URL in the list\n",
    "    selenium_extract_edge_rerun('what is the original MSRP of '+ keyword + ' car news in short sentence')\n",
    "    print('sele runner complete')\n",
    "\n",
    "    counter += 1 # Increment the counter\n",
    "\n",
    "    if counter == 30: # Check if the counter has reached 50\n",
    "        sleep(60) # Sleep for 30 seconds\n",
    "        counter = 0 # Reset the counter\n",
    "\n",
    "exit(0) # Exit the program"
   ]
  },
  {
   "cell_type": "markdown",
   "metadata": {},
   "source": [
    "### Append new data (Original MSRP)"
   ]
  },
  {
   "cell_type": "code",
   "execution_count": 55,
   "metadata": {},
   "outputs": [
    {
     "name": "stdout",
     "output_type": "stream",
     "text": [
      "(1000, 19)\n",
      "(1000, 5)\n",
      "(1000, 21)\n"
     ]
    }
   ],
   "source": [
    "#1\n",
    "df_old_1 = pd.read_csv(r'D:\\專案\\Projects\\Used Cars\\Code\\output_divided\\output_1.csv').drop('index', axis=1, errors='ignore')\n",
    "df_new_1 = pd.read_csv(r'D:\\專案\\Projects\\Used Cars\\Code\\append_divided\\car_msrp_1.csv').drop('index', axis=1, errors='ignore')\n",
    "print(df_old_1.shape)\n",
    "print(df_new_1.shape)\n",
    "\n",
    "df_new_1 = df_new_1.drop(['Unnamed: 0', 'Unnamed: 3', 'Unnamed: 4'], axis=1)\n",
    "df_combined_1 = pd.merge(df_old_1, df_new_1, left_index=True, right_index=True)\n",
    "print(df_combined_1.shape)"
   ]
  },
  {
   "cell_type": "code",
   "execution_count": 56,
   "metadata": {},
   "outputs": [
    {
     "name": "stdout",
     "output_type": "stream",
     "text": [
      "(1000, 19)\n",
      "(1000, 3)\n",
      "(1000, 21)\n"
     ]
    }
   ],
   "source": [
    "#2\n",
    "df_old_2 = pd.read_csv(r'D:\\專案\\Projects\\Used Cars\\Code\\output_divided\\output_2.csv').drop('index', axis=1, errors='ignore')\n",
    "df_new_2 = pd.read_csv(r'D:\\專案\\Projects\\Used Cars\\Code\\append_divided\\car_msrp_2.csv').drop('index', axis=1, errors='ignore')\n",
    "print(df_old_2.shape)\n",
    "print(df_new_2.shape)\n",
    "\n",
    "\n",
    "df_new_2 = df_new_2.drop(['Unnamed: 0'], axis=1)\n",
    "df_combined_2 = pd.merge(df_old_2, df_new_2, left_index=True, right_index=True)\n",
    "print(df_combined_2.shape)"
   ]
  },
  {
   "cell_type": "code",
   "execution_count": 60,
   "metadata": {},
   "outputs": [
    {
     "name": "stdout",
     "output_type": "stream",
     "text": [
      "(1000, 19)\n",
      "(1000, 3)\n",
      "(1000, 21)\n"
     ]
    }
   ],
   "source": [
    "#3\n",
    "df_old_3 = pd.read_csv(r'D:\\專案\\Projects\\Used Cars\\Code\\output_divided\\output_3.csv').drop('index', axis=1, errors='ignore')\n",
    "df_new_3 = pd.read_csv(r'D:\\專案\\Projects\\Used Cars\\Code\\append_divided\\car_msrp_3.csv').drop('index', axis=1, errors='ignore')\n",
    "print(df_old_3.shape)\n",
    "print(df_new_3.shape)\n",
    "\n",
    "df_new_3 = df_new_3.drop(['Unnamed: 0'], axis=1)\n",
    "df_combined_3 = pd.merge(df_old_3, df_new_3, left_index=True, right_index=True)\n",
    "print(df_combined_3.shape)"
   ]
  },
  {
   "cell_type": "code",
   "execution_count": 63,
   "metadata": {},
   "outputs": [
    {
     "name": "stdout",
     "output_type": "stream",
     "text": [
      "(1000, 19)\n",
      "(1000, 3)\n",
      "(1000, 21)\n"
     ]
    }
   ],
   "source": [
    "#4\n",
    "df_old_4 = pd.read_csv(r'D:\\專案\\Projects\\Used Cars\\Code\\output_divided\\output_4.csv').drop('index', axis=1, errors='ignore')\n",
    "df_new_4 = pd.read_csv(r'D:\\專案\\Projects\\Used Cars\\Code\\append_divided\\car_msrp_4.csv').drop('index', axis=1, errors='ignore')\n",
    "print(df_old_4.shape)\n",
    "print(df_new_4.shape)\n",
    "\n",
    "df_new_4 = df_new_4.drop(['Unnamed: 0'], axis=1)\n",
    "df_combined_4 = pd.merge(df_old_4, df_new_4, left_index=True, right_index=True)\n",
    "print(df_combined_4.shape)"
   ]
  },
  {
   "cell_type": "code",
   "execution_count": 66,
   "metadata": {},
   "outputs": [
    {
     "name": "stdout",
     "output_type": "stream",
     "text": [
      "(1000, 19)\n",
      "(1000, 3)\n",
      "(1000, 21)\n"
     ]
    }
   ],
   "source": [
    "#5\n",
    "df_old_5 = pd.read_csv(r'D:\\專案\\Projects\\Used Cars\\Code\\output_divided\\output_5.csv').drop('index', axis=1, errors='ignore')\n",
    "df_new_5 = pd.read_csv(r'D:\\專案\\Projects\\Used Cars\\Code\\append_divided\\car_msrp_5.csv').drop('index', axis=1, errors='ignore')\n",
    "print(df_old_5.shape)\n",
    "print(df_new_5.shape)\n",
    "\n",
    "df_new_5 = df_new_5.drop(['Unnamed: 0'], axis=1)\n",
    "df_combined_5 = pd.merge(df_old_5, df_new_5, left_index=True, right_index=True)\n",
    "print(df_combined_5.shape)"
   ]
  },
  {
   "cell_type": "code",
   "execution_count": 68,
   "metadata": {},
   "outputs": [
    {
     "name": "stdout",
     "output_type": "stream",
     "text": [
      "(1000, 19)\n",
      "(1000, 3)\n",
      "(1000, 21)\n"
     ]
    }
   ],
   "source": [
    "#6\n",
    "df_old_6 = pd.read_csv(r'D:\\專案\\Projects\\Used Cars\\Code\\output_divided\\output_6.csv').drop('index', axis=1, errors='ignore')\n",
    "df_new_6 = pd.read_csv(r'D:\\專案\\Projects\\Used Cars\\Code\\append_divided\\car_msrp_6.csv').drop('index', axis=1, errors='ignore')\n",
    "print(df_old_6.shape)\n",
    "print(df_new_6.shape)\n",
    "\n",
    "df_new_6 = df_new_6.drop(['Unnamed: 0'], axis=1)\n",
    "df_combined_6 = pd.merge(df_old_6, df_new_6, left_index=True, right_index=True)\n",
    "print(df_combined_6.shape)"
   ]
  },
  {
   "cell_type": "code",
   "execution_count": 70,
   "metadata": {},
   "outputs": [
    {
     "name": "stdout",
     "output_type": "stream",
     "text": [
      "(1000, 19)\n",
      "(1000, 3)\n",
      "(1000, 21)\n"
     ]
    }
   ],
   "source": [
    "#7\n",
    "df_old_7 = pd.read_csv(r'D:\\專案\\Projects\\Used Cars\\Code\\output_divided\\output_7.csv').drop('index', axis=1, errors='ignore')\n",
    "df_new_7 = pd.read_csv(r'D:\\專案\\Projects\\Used Cars\\Code\\append_divided\\car_msrp_7.csv').drop('index', axis=1, errors='ignore')\n",
    "print(df_old_7.shape)\n",
    "print(df_new_7.shape)\n",
    "\n",
    "df_new_7 = df_new_7.drop(['Unnamed: 0'], axis=1)\n",
    "df_combined_7 = pd.merge(df_old_7, df_new_7, left_index=True, right_index=True)\n",
    "print(df_combined_7.shape)"
   ]
  },
  {
   "cell_type": "code",
   "execution_count": 72,
   "metadata": {},
   "outputs": [
    {
     "name": "stdout",
     "output_type": "stream",
     "text": [
      "(1000, 19)\n",
      "(1000, 3)\n",
      "(1000, 21)\n"
     ]
    }
   ],
   "source": [
    "#8\n",
    "df_old_8 = pd.read_csv(r'D:\\專案\\Projects\\Used Cars\\Code\\output_divided\\output_8.csv').drop('index', axis=1, errors='ignore')\n",
    "df_new_8 = pd.read_csv(r'D:\\專案\\Projects\\Used Cars\\Code\\append_divided\\car_msrp_8.csv').drop('index', axis=1, errors='ignore')\n",
    "print(df_old_8.shape)\n",
    "print(df_new_8.shape)\n",
    "\n",
    "df_new_8 = df_new_8.drop(['Unnamed: 0'], axis=1)\n",
    "df_combined_8 = pd.merge(df_old_8, df_new_8, left_index=True, right_index=True)\n",
    "print(df_combined_8.shape)"
   ]
  },
  {
   "cell_type": "code",
   "execution_count": 76,
   "metadata": {},
   "outputs": [
    {
     "name": "stdout",
     "output_type": "stream",
     "text": [
      "(1000, 19)\n",
      "(1000, 3)\n",
      "(1000, 21)\n"
     ]
    }
   ],
   "source": [
    "#9\n",
    "df_old_9 = pd.read_csv(r'D:\\專案\\Projects\\Used Cars\\Code\\output_divided\\output_9.csv').drop('index', axis=1, errors='ignore')\n",
    "df_new_9 = pd.read_csv(r'D:\\專案\\Projects\\Used Cars\\Code\\append_divided\\car_msrp_9.csv').drop('index', axis=1, errors='ignore')\n",
    "print(df_old_9.shape)\n",
    "print(df_new_9.shape)\n",
    "\n",
    "df_new_9 = df_new_9.drop(['Unnamed: 0'], axis=1)\n",
    "df_combined_9 = pd.merge(df_old_9, df_new_9, left_index=True, right_index=True)\n",
    "print(df_combined_9.shape)"
   ]
  },
  {
   "cell_type": "code",
   "execution_count": 77,
   "metadata": {},
   "outputs": [
    {
     "name": "stdout",
     "output_type": "stream",
     "text": [
      "(458, 19)\n",
      "(458, 3)\n",
      "(458, 21)\n"
     ]
    }
   ],
   "source": [
    "#10\n",
    "df_old_10 = pd.read_csv(r'D:\\專案\\Projects\\Used Cars\\Code\\output_divided\\output_10.csv').drop('index', axis=1, errors='ignore')\n",
    "df_new_10 = pd.read_csv(r'D:\\專案\\Projects\\Used Cars\\Code\\append_divided\\car_msrp_10.csv').drop('index', axis=1, errors='ignore')\n",
    "print(df_old_10.shape)\n",
    "print(df_new_10.shape)\n",
    "\n",
    "df_new_10 = df_new_10.drop(['Unnamed: 0'], axis=1)\n",
    "df_combined_10 = pd.merge(df_old_10, df_new_10, left_index=True, right_index=True)\n",
    "print(df_combined_10.shape)"
   ]
  },
  {
   "cell_type": "code",
   "execution_count": 79,
   "metadata": {},
   "outputs": [
    {
     "name": "stdout",
     "output_type": "stream",
     "text": [
      "(9458, 21)\n"
     ]
    }
   ],
   "source": [
    "df = pd.concat([df_combined_1,\n",
    "                df_combined_2,\n",
    "                df_combined_3,\n",
    "                df_combined_4,\n",
    "                df_combined_5,\n",
    "                df_combined_6,\n",
    "                df_combined_7,\n",
    "                df_combined_8,\n",
    "                df_combined_9,\n",
    "                df_combined_10\n",
    "                ]).reset_index(drop=True)\n",
    "\n",
    "print(df.shape)"
   ]
  },
  {
   "cell_type": "code",
   "execution_count": 81,
   "metadata": {},
   "outputs": [],
   "source": [
    "# Order by 'car_msrp' with not found\n",
    "df['is_not_found'] = df['car_msrp'] == 'not found'\n",
    "df = df.sort_values('is_not_found', ascending=False)\n",
    "df = df.drop('is_not_found', axis=1)\n",
    "df = df.reset_index(drop=True)"
   ]
  },
  {
   "cell_type": "code",
   "execution_count": 82,
   "metadata": {},
   "outputs": [
    {
     "name": "stdout",
     "output_type": "stream",
     "text": [
      "1207\n"
     ]
    }
   ],
   "source": [
    "# Not found count\n",
    "# This number is more than I expected\n",
    "not_found_count = df['car_msrp'].value_counts()['not found']\n",
    "print(not_found_count)"
   ]
  },
  {
   "cell_type": "code",
   "execution_count": 84,
   "metadata": {},
   "outputs": [],
   "source": [
    "df = df.drop(['car_name'], axis=1)\n",
    "df.to_csv('rerun_nf.csv', index=False, encoding='utf-8-sig')"
   ]
  },
  {
   "cell_type": "markdown",
   "metadata": {},
   "source": [
    "### Rerun the Webcraping due to value lost on MSRP"
   ]
  },
  {
   "cell_type": "code",
   "execution_count": 4,
   "metadata": {},
   "outputs": [],
   "source": [
    "# Split the DataFrame into two halves\n",
    "df_splithalf = pd.read_csv(r'D:\\專案\\Projects\\Used Cars\\Code\\rerun_nf.csv').drop('index', axis=1, errors='ignore')\n",
    "\n",
    "df1 = df_splithalf.iloc[:1207]  # including index from 0 to 1207\n",
    "df2 = df_splithalf.iloc[1207:]  # including index from 1210 to the end"
   ]
  },
  {
   "cell_type": "code",
   "execution_count": null,
   "metadata": {},
   "outputs": [],
   "source": [
    "def selenium_extract_edge_rerun(keyword):\n",
    "\n",
    "    from selenium import webdriver\n",
    "    from selenium.webdriver.edge.service import Service\n",
    "    from selenium.webdriver.edge.options import Options\n",
    "    from selenium.webdriver.common.by import By\n",
    "    from selenium.webdriver.support.ui import WebDriverWait\n",
    "    from selenium.webdriver.support import expected_conditions as EC\n",
    "    from selenium.webdriver.common.keys import Keys\n",
    "    from selenium.common.exceptions import NoSuchElementException\n",
    "    import time\n",
    "    import json, os\n",
    "    import pandas as pd\n",
    "    import random\n",
    "    import re\n",
    "\n",
    "\n",
    "    # enable the headless mode\n",
    "    options = Options()\n",
    "    options.add_argument(\"--enable-chrome-browser-cloud-management\")\n",
    "\n",
    "    #-----Optimize Browser Settings-----#\n",
    "    options.add_argument(\"--disable-gpu\")\n",
    "    options.add_argument(\"--no-sandbox\")\n",
    "    prefs = {\"profile.managed_default_content_settings.images\": 2, \"javascript.enabled\": False}\n",
    "    options.add_experimental_option(\"prefs\", prefs)\n",
    "    options.add_argument(\"--disable-dev-shm-usage\")\n",
    "    options.add_argument(\"--disable-extensions\")\n",
    "    options.add_argument(\"--disable-notifications\")\n",
    "    options.add_argument(\"--disable-popup-blocking\")\n",
    "    options.add_argument(\"--disable-geolocation\")\n",
    "\n",
    "\n",
    "\n",
    "\n",
    "    service = Service(executable_path=\"msedgedriver.exe\")\n",
    "    driver = webdriver.Edge(service=service, options=options)\n",
    "\n",
    "    \n",
    "    #input your website here\n",
    "    driver.get(\"https://www.perplexity.ai/\")\n",
    "\n",
    "\n",
    "    # time.sleep(2)\n",
    "    sleep_time = random.randint(1, 3)\n",
    "    sleep_time2 = random.randint(5, 6)\n",
    "    sleep_time3 = random.randint(3, 4)\n",
    "    time.sleep(sleep_time)\n",
    "\n",
    "\n",
    "    #First Page\n",
    "    WebDriverWait(driver, 5).until(\n",
    "        EC.presence_of_element_located((By.XPATH, '//*[@id=\"__next\"]/main/div/div/div[2]/div/div/div/div[1]/div[2]/div/div/span/div/div/textarea'))\n",
    "    )\n",
    "    input_element = driver.find_element(By.XPATH, '//*[@id=\"__next\"]/main/div/div/div[2]/div/div/div/div[1]/div[2]/div/div/span/div/div/textarea')                          \n",
    "    input_element.clear()                                        # clear the search bar\n",
    "    input_element.send_keys(keyword + Keys.ENTER)        # search for \"tech with tim\"\n",
    "    time.sleep(sleep_time)\n",
    "\n",
    "\n",
    "    time.sleep(sleep_time2)\n",
    "\n",
    "\n",
    "    #scraping logic for the car info\n",
    "    car_name = keyword\n",
    "\n",
    "    try:\n",
    "        car_msrp_1 = driver.find_element(By.XPATH, '//*[@id=\"__next\"]/main/div/div/div[2]/div/div/div[2]/div[1]/div/div/div[1]/div/div/div[3]/div/div[1]/div[2]/div[2]/div[2]/div/div/div/div').text\n",
    "        if re.search(r'\\d', car_msrp_1):  # Check if car_msrp_1 contains any digits\n",
    "            try:\n",
    "                car_msrp = re.search(r'\\$\\d+,\\d+', car_msrp_1).group()\n",
    "            except AttributeError:  # re.search() returns None if no match is found, which causes AttributeError when .group() is called\n",
    "                car_msrp = 'not found'\n",
    "        else:\n",
    "            car_msrp = 'not found'\n",
    "    except NoSuchElementException:\n",
    "        car_msrp = 'not found'\n",
    "\n",
    "\n",
    "\n",
    "    print(car_name + car_msrp)\n",
    "\n",
    "\n",
    "\n",
    "    # dictionary where to store the info\n",
    "    car_info = {}\n",
    "    car_info['car_name'] = car_name\n",
    "    car_info['car_msrp'] = car_msrp\n",
    "\n",
    "\n",
    "    df = pd.DataFrame([car_info])\n",
    "\n",
    "\n",
    "    if not os.path.isfile(r'D:\\專案\\Projects\\Used Cars\\Code\\rerun_df1.csv'):\n",
    "        df.to_csv(r'D:\\專案\\Projects\\Used Cars\\Code\\rerun_df1.csv', header='column_names', encoding='utf-8')\n",
    "    else:\n",
    "        df.to_csv(r'D:\\專案\\Projects\\Used Cars\\Code\\rerun_df1.csv', mode='a', header=False, encoding='utf-8')\n",
    "\n",
    "\n",
    "    time.sleep(sleep_time2)\n",
    "    driver.close()\n",
    "    driver.quit()\n",
    "\n",
    "\n",
    "import time\n",
    "from time import sleep\n",
    "import csv, os, json\n",
    "import pandas as pd\n",
    "# import selenium_extract_edge_car_rerun\n",
    "import random\n",
    "\n",
    "# specify the columns you want to read\n",
    "columns_to_read = ['combined']\n",
    "\n",
    "car_name_list = df1\n",
    "\n",
    "counter = 0 # Initialize the counter\n",
    "\n",
    "for keyword in car_name_list['combined'].values[1049:]: # Iterate over each URL in the list\n",
    "    selenium_extract_edge_rerun('what is the original MSRP of '+ keyword + ' car news in short sentence')\n",
    "    print('sele runner complete')\n",
    "\n",
    "    counter += 1 # Increment the counter\n",
    "\n",
    "    if counter == 30: # Check if the counter has reached 50\n",
    "        sleep(60) # Sleep for 30 seconds\n",
    "        counter = 0 # Reset the counter\n",
    "\n",
    "exit(0) # Exit the program"
   ]
  },
  {
   "cell_type": "code",
   "execution_count": 5,
   "metadata": {},
   "outputs": [
    {
     "name": "stderr",
     "output_type": "stream",
     "text": [
      "C:\\Users\\no\\AppData\\Local\\Temp\\ipykernel_14576\\3447883057.py:4: SettingWithCopyWarning: \n",
      "A value is trying to be set on a copy of a slice from a DataFrame.\n",
      "Try using .loc[row_indexer,col_indexer] = value instead\n",
      "\n",
      "See the caveats in the documentation: https://pandas.pydata.org/pandas-docs/stable/user_guide/indexing.html#returning-a-view-versus-a-copy\n",
      "  df1[\"car_msrp\"] = df_1_new[\"car_msrp\"]\n"
     ]
    }
   ],
   "source": [
    "# Replace the old column\n",
    "df_1_new = pd.read_csv(r'D:\\專案\\Projects\\Used Cars\\Code\\rerun_df1.csv').drop('index', axis=1, errors='ignore')\n",
    "df_1_new = df_1_new.drop(['Unnamed: 0'], axis=1)\n",
    "df1[\"car_msrp\"] = df_1_new[\"car_msrp\"]"
   ]
  },
  {
   "cell_type": "code",
   "execution_count": 10,
   "metadata": {},
   "outputs": [
    {
     "name": "stdout",
     "output_type": "stream",
     "text": [
      "(9458, 20)\n"
     ]
    }
   ],
   "source": [
    "# Assemble the final DataFrame\n",
    "df = pd.concat([df1,\n",
    "                df2,\n",
    "                ]).reset_index(drop=True)\n",
    "\n",
    "print(df.shape)"
   ]
  },
  {
   "cell_type": "code",
   "execution_count": 11,
   "metadata": {},
   "outputs": [
    {
     "name": "stdout",
     "output_type": "stream",
     "text": [
      "256\n",
      "(9458, 20)\n",
      "(9202, 20)\n"
     ]
    }
   ],
   "source": [
    "# Numbers of not found in \"car_msrp\"\n",
    "df['is_not_found'] = df['car_msrp'] == 'not found'\n",
    "df = df.sort_values('is_not_found', ascending=False)\n",
    "df = df.drop('is_not_found', axis=1)\n",
    "df = df.reset_index(drop=True)\n",
    "\n",
    "not_found_count = df['car_msrp'].value_counts()['not found']\n",
    "print(not_found_count)\n",
    "print(df.shape) \n",
    "\n",
    "# Remove not found in \"car_msrp\"\n",
    "df = df[df[\"car_msrp\"] != \"not found\"]\n",
    "print(df.shape) "
   ]
  },
  {
   "cell_type": "code",
   "execution_count": null,
   "metadata": {},
   "outputs": [],
   "source": [
    "df.to_csv('final_cleaned.csv', index=False, encoding='utf-8-sig')"
   ]
  }
 ],
 "metadata": {
  "kernelspec": {
   "display_name": "base",
   "language": "python",
   "name": "python3"
  },
  "language_info": {
   "codemirror_mode": {
    "name": "ipython",
    "version": 3
   },
   "file_extension": ".py",
   "mimetype": "text/x-python",
   "name": "python",
   "nbconvert_exporter": "python",
   "pygments_lexer": "ipython3",
   "version": "3.11.7"
  }
 },
 "nbformat": 4,
 "nbformat_minor": 2
}
